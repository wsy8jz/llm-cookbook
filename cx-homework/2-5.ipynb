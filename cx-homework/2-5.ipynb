{
 "cells": [
  {
   "cell_type": "code",
   "execution_count": 7,
   "metadata": {},
   "outputs": [],
   "source": [
    "def expand_query(original_query, knowledge_base):\n",
    "    \"\"\"\n",
    "    扩展原始查询以提高搜索相关性\n",
    "    \n",
    "    参数:\n",
    "    original_query (str): 原始查询\n",
    "    knowledge_base (dict): 知识库，包含同义词和相关术语\n",
    "    \n",
    "    返回:\n",
    "    str: 扩展后的查询\n",
    "    \"\"\"\n",
    "    # 将原始查询拆分为单词列表\n",
    "    words = original_query.split()\n",
    "    \n",
    "    # 初始化扩展后的查询列表\n",
    "    expanded_query = []\n",
    "    \n",
    "    # 遍历原始查询中的每个单词\n",
    "    for word in words:\n",
    "        # 如果单词在知识库中，则扩展该单词\n",
    "        if word in knowledge_base:\n",
    "            expanded_query.append(\" \".join([word] + knowledge_base[word]))\n",
    "        else:\n",
    "            # 如果单词不在知识库中，则保留原词\n",
    "            expanded_query.append(word)\n",
    "    \n",
    "    # 将扩展后的查询列表组合成字符串\n",
    "    expanded_query_str = \" \".join(expanded_query)\n",
    "    \n",
    "    return expanded_query_str"
   ]
  },
  {
   "cell_type": "code",
   "execution_count": 8,
   "metadata": {},
   "outputs": [
    {
     "name": "stdout",
     "output_type": "stream",
     "text": [
      "便宜 经济 实惠 低价\n"
     ]
    }
   ],
   "source": [
    "# 测试\n",
    "query = \"便宜\"\n",
    "kb = {\n",
    "    \"便宜\": [\"经济\", \"实惠\", \"低价\"],\n",
    "    # ... 更多知识\n",
    "}\n",
    "print(expand_query(query, kb))"
   ]
  },
  {
   "cell_type": "code",
   "execution_count": 9,
   "metadata": {},
   "outputs": [
    {
     "name": "stdout",
     "output_type": "stream",
     "text": [
      "笔记本电脑 笔记本 电脑 便携式计算机\n"
     ]
    }
   ],
   "source": [
    "# 测试\n",
    "query = \"笔记本电脑\"\n",
    "kb = {\n",
    "    \"笔记本电脑\": [\"笔记本\", \"电脑\", \"便携式计算机\"],\n",
    "    # ... 更多知识\n",
    "}\n",
    "print(expand_query(query, kb))"
   ]
  }
 ],
 "metadata": {
  "kernelspec": {
   "display_name": "Python 3",
   "language": "python",
   "name": "python3"
  },
  "language_info": {
   "codemirror_mode": {
    "name": "ipython",
    "version": 3
   },
   "file_extension": ".py",
   "mimetype": "text/x-python",
   "name": "python",
   "nbconvert_exporter": "python",
   "pygments_lexer": "ipython3",
   "version": "3.12.1"
  }
 },
 "nbformat": 4,
 "nbformat_minor": 2
}
