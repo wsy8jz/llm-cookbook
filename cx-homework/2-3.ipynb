{
 "cells": [
  {
   "cell_type": "code",
   "execution_count": 1,
   "metadata": {},
   "outputs": [
    {
     "name": "stdout",
     "output_type": "stream",
     "text": [
      "TechPro Ultrabook的价格是 799.99 元。\n"
     ]
    }
   ],
   "source": [
    "def generate_response(user_query, product_info):\n",
    "    \"\"\"\n",
    "    根据用户查询和产品信息生成客服回复\n",
    "    \n",
    "    参数:\n",
    "    user_query (str): 用户的查询\n",
    "    product_info (dict): 产品信息字典\n",
    "    \n",
    "    返回:\n",
    "    str: 生成的客服回复\n",
    "    \"\"\"\n",
    "    # 提取查询中的关键词\n",
    "    keywords = [\"价格\", \"多少钱\", \"售价\"]\n",
    "    \n",
    "    # 检查查询中是否包含关键词\n",
    "    if any(keyword in user_query for keyword in keywords):\n",
    "        # 提取产品价格\n",
    "        price = product_info.get(\"price\")\n",
    "        if price:\n",
    "            return f\"{product_info['name']}的价格是 {price} 元。\"\n",
    "        else:\n",
    "            return f\"抱歉，我们暂时没有 {product_info['name']} 的价格信息。\"\n",
    "    else:\n",
    "        return \"抱歉，我无法理解您的查询。请提供更多详细信息。\"\n",
    "\n",
    "# 测试\n",
    "query = \"TechPro Ultrabook的价格是多少?\"\n",
    "product_info = {\"name\": \"TechPro Ultrabook\", \"price\": 799.99}\n",
    "print(generate_response(query, product_info))"
   ]
  }
 ],
 "metadata": {
  "kernelspec": {
   "display_name": "Python 3",
   "language": "python",
   "name": "python3"
  },
  "language_info": {
   "codemirror_mode": {
    "name": "ipython",
    "version": 3
   },
   "file_extension": ".py",
   "mimetype": "text/x-python",
   "name": "python",
   "nbconvert_exporter": "python",
   "pygments_lexer": "ipython3",
   "version": "3.12.1"
  }
 },
 "nbformat": 4,
 "nbformat_minor": 2
}
