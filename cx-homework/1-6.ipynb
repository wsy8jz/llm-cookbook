{
 "cells": [
  {
   "cell_type": "code",
   "execution_count": 1,
   "metadata": {},
   "outputs": [],
   "source": [
    "import os\n",
    "from openai import OpenAI"
   ]
  },
  {
   "cell_type": "code",
   "execution_count": 2,
   "metadata": {},
   "outputs": [],
   "source": [
    "client = OpenAI(\n",
    "    api_key=\"sk-\",  # API密钥\n",
    "    base_url=\"https://api.deepseek.com\"  # API的基础URL\n",
    ")\n",
    "deployment = \"deepseek-chat\""
   ]
  },
  {
   "cell_type": "code",
   "execution_count": 5,
   "metadata": {},
   "outputs": [
    {
     "name": "stdout",
     "output_type": "stream",
     "text": [
      "用户输入: def factorial(n):     if n == 0:         return 1     else:         return n * factorial(n - 1)\n",
      "代码解释: 这段Python代码定义了一个递归函数 `factorial`，用于计算一个非负整数 `n` 的阶乘。让我们逐步详细解释这段代码的每个部分。\n",
      "\n",
      "### 1. 函数定义\n",
      "```python\n",
      "def factorial(n):\n",
      "```\n",
      "- `def` 是 Python 中用于定义函数的关键字。\n",
      "- `factorial` 是函数的名称。\n",
      "- `n` 是函数的参数，表示要计算阶乘的非负整数。\n",
      "\n",
      "### 2. 基本情况（Base Case）\n",
      "```python\n",
      "    if n == 0:\n",
      "        return 1\n",
      "```\n",
      "- `if n == 0:` 是一个条件语句，用于检查 `n` 是否等于 0。\n",
      "- `return 1` 表示如果 `n` 等于 0，函数将返回 1。这是因为在数学中，0 的阶乘定义为 1。\n",
      "\n",
      "### 3. 递归情况（Recursive Case）\n",
      "```python\n",
      "    else:\n",
      "        return n * factorial(n - 1)\n",
      "```\n",
      "- `else:` 是与 `if` 语句配对的分支，表示如果 `n` 不等于 0，则执行 `else` 块中的代码。\n",
      "- `return n * factorial(n - 1)` 是递归调用。这里，函数 `factorial` 被调用，参数为 `n - 1`，然后将结果乘以 `n` 并返回。\n",
      "\n",
      "### 4. 递归的工作原理\n",
      "- 递归函数通过将问题分解为更小的子问题来解决问题。\n",
      "- 在这个例子中，计算 `n` 的阶乘可以通过计算 `n-1` 的阶乘并将结果乘以 `n` 来实现。\n",
      "- 递归会一直进行，直到 `n` 减少到 0，此时基本情况被触发，递归停止。\n",
      "\n",
      "### 5. 示例调用\n",
      "假设我们调用 `factorial(5)`：\n",
      "- `factorial(5)` 会调用 `factorial(4)`，然后 `factorial(4)` 会调用 `factorial(3)`，依此类推，直到 `factorial(0)`\n",
      "Token使用: 557\n"
     ]
    }
   ],
   "source": [
    "def generate_code_explanation(code, max_tokens):\n",
    "    # 构建提示，要求模型生成代码解释\n",
    "    prompt = f\"请详细解释以下Python代码，解释的详细程度根据最大token数量{max_tokens}动态调整：\\n{code}\"\n",
    "    \n",
    "    # 调用API获取响应\n",
    "    response = client.chat.completions.create(\n",
    "        model=deployment,\n",
    "        messages=[{\"role\": \"user\", \"content\": prompt}],\n",
    "        temperature=0.7,\n",
    "        max_tokens=max_tokens\n",
    "    )\n",
    "    \n",
    "    # 获取响应内容和token使用情况\n",
    "    content = response.choices[0].message.content\n",
    "    token_usage = response.usage.total_tokens\n",
    "    \n",
    "    return content, token_usage\n",
    "\n",
    "# 示例对话\n",
    "while True:\n",
    "    user_input = input(\"请输入要解释的Python代码（输入'退出'或'exit'结束）：\")\n",
    "    if user_input.lower() in [\"退出\", \"exit\"]:\n",
    "        break\n",
    "    \n",
    "    max_tokens = int(input(\"请输入最大token数量：\"))\n",
    "    \n",
    "    print(f\"用户输入: {user_input}\")  # 输出用户的问话\n",
    "    explanation, tokens_used = generate_code_explanation(user_input, max_tokens)\n",
    "    print(f\"代码解释: {explanation}\")\n",
    "    print(f\"Token使用: {tokens_used}\")"
   ]
  }
 ],
 "metadata": {
  "kernelspec": {
   "display_name": "Python 3",
   "language": "python",
   "name": "python3"
  },
  "language_info": {
   "codemirror_mode": {
    "name": "ipython",
    "version": 3
   },
   "file_extension": ".py",
   "mimetype": "text/x-python",
   "name": "python",
   "nbconvert_exporter": "python",
   "pygments_lexer": "ipython3",
   "version": "3.12.1"
  }
 },
 "nbformat": 4,
 "nbformat_minor": 2
}
