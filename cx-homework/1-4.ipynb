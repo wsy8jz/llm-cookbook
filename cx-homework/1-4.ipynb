{
 "cells": [
  {
   "cell_type": "code",
   "execution_count": 3,
   "metadata": {},
   "outputs": [],
   "source": [
    "import os\n",
    "from openai import OpenAI"
   ]
  },
  {
   "cell_type": "code",
   "execution_count": 4,
   "metadata": {},
   "outputs": [],
   "source": [
    "client = OpenAI(\n",
    "    api_key=\"sk-\",  # API密钥\n",
    "    base_url=\"https://api.deepseek.com\"  # API的基础URL\n",
    ")\n",
    "deployment = \"deepseek-chat\""
   ]
  },
  {
   "cell_type": "code",
   "execution_count": 8,
   "metadata": {},
   "outputs": [
    {
     "name": "stdout",
     "output_type": "stream",
     "text": [
      "用户输入: hello\n",
      "翻译结果: 这段文本的语言是英语。以下是它的法语翻译：\n",
      "\n",
      "**Bonjour**\n",
      "Token使用: 37\n",
      "用户输入: Bonjour\n",
      "翻译结果: Il testo fornito è in francese e significa \"Buongiorno\". Ecco la traduzione in italiano:\n",
      "\n",
      "\"Buongiorno\"\n",
      "Token使用: 54\n"
     ]
    }
   ],
   "source": [
    "def translate_text(text, target_language):\n",
    "    # 构建提示，要求模型检测语言并翻译\n",
    "    prompt = f\"请检测以下文本的语言，并将其翻译成{target_language}：\\n{text}\"\n",
    "    \n",
    "    # 调用API获取响应\n",
    "    response = client.chat.completions.create(\n",
    "        model=deployment,\n",
    "        messages=[{\"role\": \"user\", \"content\": prompt}],\n",
    "        temperature=0.7,\n",
    "        max_tokens=1000\n",
    "    )\n",
    "    \n",
    "    # 获取响应内容和token使用情况\n",
    "    content = response.choices[0].message.content\n",
    "    token_usage = response.usage.total_tokens\n",
    "    \n",
    "    return content, token_usage\n",
    "\n",
    "# 示例对话\n",
    "while True:\n",
    "    user_input = input(\"请输入要翻译的文本（输入'退出'或'exit'结束）：\")\n",
    "    if user_input.lower() in [\"退出\", \"exit\"]:\n",
    "        break\n",
    "    \n",
    "    target_language = input(\"请输入目标语言（例如：英语、法语、中文等）：\")\n",
    "    \n",
    "    print(f\"用户输入: {user_input}\")  # 输出用户的问话\n",
    "    translation, tokens_used = translate_text(user_input, target_language)\n",
    "    print(f\"翻译结果: {translation}\")\n",
    "    print(f\"Token使用: {tokens_used}\")"
   ]
  }
 ],
 "metadata": {
  "kernelspec": {
   "display_name": "Python 3",
   "language": "python",
   "name": "python3"
  },
  "language_info": {
   "codemirror_mode": {
    "name": "ipython",
    "version": 3
   },
   "file_extension": ".py",
   "mimetype": "text/x-python",
   "name": "python",
   "nbconvert_exporter": "python",
   "pygments_lexer": "ipython3",
   "version": "3.12.1"
  }
 },
 "nbformat": 4,
 "nbformat_minor": 2
}
