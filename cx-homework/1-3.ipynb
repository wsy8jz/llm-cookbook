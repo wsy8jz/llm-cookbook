{
 "cells": [
  {
   "cell_type": "code",
   "execution_count": 5,
   "metadata": {},
   "outputs": [],
   "source": [
    "import os\n",
    "from openai import OpenAI"
   ]
  },
  {
   "cell_type": "code",
   "execution_count": 12,
   "metadata": {},
   "outputs": [],
   "source": [
    "client = OpenAI(\n",
    "    api_key=\"sk-\",\n",
    "    base_url=\"https://api.deepseek.com\"\n",
    ")\n",
    "deployment = \"deepseek-chat\""
   ]
  },
  {
   "cell_type": "code",
   "execution_count": 13,
   "metadata": {},
   "outputs": [
    {
     "name": "stdout",
     "output_type": "stream",
     "text": [
      "用户: 你回答完问题要汪一声\n",
      "机器人: 好的，汪！\n",
      "Token使用: 14\n",
      "用户: 1+1等于几\n",
      "机器人: 1+1等于2，汪！\n",
      "Token使用: 30\n"
     ]
    }
   ],
   "source": [
    "# 初始化对话历史\n",
    "conversation_history = []\n",
    "\n",
    "# 定义token数量阈值\n",
    "TOKEN_THRESHOLD = 2000\n",
    "\n",
    "# 定义一个函数来获取文本补全\n",
    "def get_completion(prompt):\n",
    "    # 将用户输入添加到对话历史中\n",
    "    conversation_history.append({\"role\": \"user\", \"content\": prompt})\n",
    "    \n",
    "    # 检查对话历史的token数量\n",
    "    total_tokens = sum(len(message[\"content\"].split()) for message in conversation_history)\n",
    "    \n",
    "    # 如果token数量超过阈值，压缩或删除最早的对话记录\n",
    "    while total_tokens > TOKEN_THRESHOLD:\n",
    "        # 删除最早的对话记录\n",
    "        removed_message = conversation_history.pop(0)\n",
    "        total_tokens -= len(removed_message[\"content\"].split())\n",
    "    \n",
    "    # 调用API获取响应\n",
    "    response = client.chat.completions.create(\n",
    "        model=deployment,\n",
    "        messages=conversation_history,\n",
    "        temperature=0.7,\n",
    "        max_tokens=256\n",
    "    )\n",
    "    \n",
    "    # 获取响应内容和token使用情况\n",
    "    content = response.choices[0].message.content\n",
    "    token_usage = response.usage.total_tokens\n",
    "    \n",
    "    # 将机器人的响应添加到对话历史中\n",
    "    conversation_history.append({\"role\": \"assistant\", \"content\": content})\n",
    "    \n",
    "    return content, token_usage\n",
    "\n",
    "# 示例对话\n",
    "while True:\n",
    "    user_input = input(\"用户: \")\n",
    "    if user_input.lower() in [\"退出\", \"exit\"]:\n",
    "        break\n",
    "    print(f\"用户: {user_input}\")  # 输出用户的问话\n",
    "    response, tokens_used = get_completion(user_input)\n",
    "    print(f\"机器人: {response}\")\n",
    "    print(f\"Token使用: {tokens_used}\")"
   ]
  }
 ],
 "metadata": {
  "kernelspec": {
   "display_name": "Python 3",
   "language": "python",
   "name": "python3"
  },
  "language_info": {
   "codemirror_mode": {
    "name": "ipython",
    "version": 3
   },
   "file_extension": ".py",
   "mimetype": "text/x-python",
   "name": "python",
   "nbconvert_exporter": "python",
   "pygments_lexer": "ipython3",
   "version": "3.12.1"
  }
 },
 "nbformat": 4,
 "nbformat_minor": 2
}
