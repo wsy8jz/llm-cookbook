{
 "cells": [
  {
   "cell_type": "code",
   "execution_count": 2,
   "metadata": {},
   "outputs": [
    {
     "name": "stdout",
     "output_type": "stream",
     "text": [
      "分析查询: 哪个笔记本电脑更适合游戏：TechPro Ultrabook 还是 BlueWave Gaming Laptop？\n",
      "确定相关产品: TechPro Ultrabook, BlueWave Gaming Laptop\n",
      "比较产品特性:\n",
      "TechPro Ultrabook: 轻薄便携, 性能中等, 适合日常使用\n",
      "BlueWave Gaming Laptop: 高性能显卡, 大内存, 适合游戏\n",
      "最终答案: 推荐产品 TechPro Ultrabook\n"
     ]
    }
   ],
   "source": [
    "def cot_reasoning(user_query, product_catalog):\n",
    "    \"\"\"\n",
    "    使用思维链(COT)方法处理用户查询\n",
    "    \n",
    "    参数:\n",
    "    user_query (str): 用户的查询\n",
    "    product_catalog (dict): 产品目录\n",
    "    \n",
    "    返回:\n",
    "    str: 包含推理过程和最终答案的字符串\n",
    "    \"\"\"\n",
    "    # 1. 分析查询\n",
    "    reasoning_steps = []\n",
    "    reasoning_steps.append(f\"分析查询: {user_query}\")\n",
    "    \n",
    "    # 2. 确定相关产品\n",
    "    relevant_products = []\n",
    "    for product, details in product_catalog.items():\n",
    "        if any(keyword in user_query.lower() for keyword in details['keywords']):\n",
    "            relevant_products.append(product)\n",
    "    reasoning_steps.append(f\"确定相关产品: {', '.join(relevant_products)}\")\n",
    "    \n",
    "    # 3. 比较产品特性\n",
    "    if len(relevant_products) > 1:\n",
    "        comparison = []\n",
    "        for product in relevant_products:\n",
    "            details = product_catalog[product]\n",
    "            comparison.append(f\"{product}: {', '.join(details['features'])}\")\n",
    "        reasoning_steps.append(f\"比较产品特性:\\n\" + \"\\n\".join(comparison))\n",
    "    else:\n",
    "        reasoning_steps.append(\"只有一个相关产品，无需比较。\")\n",
    "    \n",
    "    # 4. 得出结论\n",
    "    if len(relevant_products) == 1:\n",
    "        conclusion = f\"最终答案: 推荐产品 {relevant_products[0]}\"\n",
    "    else:\n",
    "        conclusion = \"最终答案: 推荐产品 \" + relevant_products[0]  # 假设推荐第一个产品\n",
    "    reasoning_steps.append(conclusion)\n",
    "    \n",
    "    # 返回推理过程和最终答案\n",
    "    return \"\\n\".join(reasoning_steps)\n",
    "\n",
    "# 示例产品目录\n",
    "product_catalog = {\n",
    "    \"TechPro Ultrabook\": {\n",
    "        \"keywords\": [\"笔记本电脑\", \"游戏\", \"轻薄\"],\n",
    "        \"features\": [\"轻薄便携\", \"性能中等\", \"适合日常使用\"]\n",
    "    },\n",
    "    \"BlueWave Gaming Laptop\": {\n",
    "        \"keywords\": [\"笔记本电脑\", \"游戏\", \"高性能\"],\n",
    "        \"features\": [\"高性能显卡\", \"大内存\", \"适合游戏\"]\n",
    "    }\n",
    "}\n",
    "\n",
    "# 示例用户查询\n",
    "query = \"哪个笔记本电脑更适合游戏：TechPro Ultrabook 还是 BlueWave Gaming Laptop？\"\n",
    "\n",
    "# 调用思维链推理函数\n",
    "result = cot_reasoning(query, product_catalog)\n",
    "print(result)"
   ]
  }
 ],
 "metadata": {
  "kernelspec": {
   "display_name": "Python 3",
   "language": "python",
   "name": "python3"
  },
  "language_info": {
   "codemirror_mode": {
    "name": "ipython",
    "version": 3
   },
   "file_extension": ".py",
   "mimetype": "text/x-python",
   "name": "python",
   "nbconvert_exporter": "python",
   "pygments_lexer": "ipython3",
   "version": "3.12.1"
  }
 },
 "nbformat": 4,
 "nbformat_minor": 2
}
