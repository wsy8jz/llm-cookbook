{
 "cells": [
  {
   "cell_type": "code",
   "execution_count": 2,
   "metadata": {},
   "outputs": [],
   "source": [
    "import os\n",
    "from openai import OpenAI"
   ]
  },
  {
   "cell_type": "code",
   "execution_count": 3,
   "metadata": {},
   "outputs": [],
   "source": [
    "client = OpenAI(\n",
    "    api_key=\"sk-\",  # API密钥\n",
    "    base_url=\"https://api.deepseek.com\"  # API的基础URL\n",
    ")\n",
    "deployment = \"deepseek-chat\""
   ]
  },
  {
   "cell_type": "code",
   "execution_count": 4,
   "metadata": {},
   "outputs": [
    {
     "name": "stdout",
     "output_type": "stream",
     "text": [
      "用户输入: 《只狼：影逝二度》（Sekiro：Shadows Die Twice）是一款由From Software制作的第三人称视角的动作冒险RPG类游戏，玩家将操控一位忍者，拯救他的主人——拥有日本贵族血统的大能的御子，并向他的天敌复仇。该游戏已于2019年3月22日全球同步上市，并支持中文版。 [1] 游戏剧情将探索生死冲突不断的16世纪后期，残酷的日本战国时代。在黑暗、扭曲的世界，玩家与威胁生命的敌人对峙，活用义手装备各种致命武器，大显忍者身手，在血腥对抗中潜行、上下穿梭，与敌人正面激烈交锋。 2019年12月13日，《只狼：影逝二度》获得TGA 2019最佳年度游戏 [2]。\n",
      "摘要结果: 《只狼：影逝二度》是一款由From Software制作的第三人称动作冒险RPG游戏，玩家扮演忍者拯救主人并复仇，游戏背景设定在16世纪日本战国时代，支持中文版，荣获TGA\n",
      "Token使用: 260\n"
     ]
    }
   ],
   "source": [
    "def generate_summary(text, max_length, temperature):\n",
    "    # 构建提示，要求模型生成指定长度的摘要\n",
    "    prompt = f\"请将以下文本压缩成不超过{max_length}个字的摘要：\\n{text}\"\n",
    "    \n",
    "    # 调用API获取响应\n",
    "    response = client.chat.completions.create(\n",
    "        model=deployment,\n",
    "        messages=[{\"role\": \"user\", \"content\": prompt}],\n",
    "        temperature=temperature,\n",
    "        max_tokens=max_length\n",
    "    )\n",
    "    \n",
    "    # 获取响应内容和token使用情况\n",
    "    content = response.choices[0].message.content\n",
    "    token_usage = response.usage.total_tokens\n",
    "    \n",
    "    return content, token_usage\n",
    "\n",
    "# 示例对话\n",
    "while True:\n",
    "    user_input = input(\"请输入要摘要的文本（输入'退出'或'exit'结束）：\")\n",
    "    if user_input.lower() in [\"退出\", \"exit\"]:\n",
    "        break\n",
    "    \n",
    "    max_length = int(input(\"请输入摘要的最大长度（字数）：\"))\n",
    "    temperature = float(input(\"请输入temperature参数（0.0到1.0之间）：\"))\n",
    "    \n",
    "    print(f\"用户输入: {user_input}\")  # 输出用户的问话\n",
    "    summary, tokens_used = generate_summary(user_input, max_length, temperature)\n",
    "    print(f\"摘要结果: {summary}\")\n",
    "    print(f\"Token使用: {tokens_used}\")"
   ]
  }
 ],
 "metadata": {
  "kernelspec": {
   "display_name": "Python 3",
   "language": "python",
   "name": "python3"
  },
  "language_info": {
   "codemirror_mode": {
    "name": "ipython",
    "version": 3
   },
   "file_extension": ".py",
   "mimetype": "text/x-python",
   "name": "python",
   "nbconvert_exporter": "python",
   "pygments_lexer": "ipython3",
   "version": "3.12.1"
  }
 },
 "nbformat": 4,
 "nbformat_minor": 2
}
